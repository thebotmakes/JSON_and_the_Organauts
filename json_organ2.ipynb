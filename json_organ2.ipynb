{
 "cells": [
  {
   "cell_type": "code",
   "execution_count": 12,
   "metadata": {},
   "outputs": [],
   "source": [
    "from pyowm import OWM\n",
    "import time\n",
    "import rtmidi\n",
    "\n",
    "owm = OWM('XXXXXXYOUR_API_HEREXXXXX')  # You MUST provide a valid API key\n",
    "mgr = owm.weather_manager()"
   ]
  },
  {
   "cell_type": "code",
   "execution_count": 13,
   "metadata": {},
   "outputs": [
    {
     "name": "stdout",
     "output_type": "stream",
     "text": [
      "['Viking', 'North Utsire', 'South Utsire', 'Forties', 'Forth', 'Cromarty', 'Tyne', 'Dogger', 'Fisher', 'German Bight', 'Humber', 'Thames', 'Dover', 'Wight', 'Portland', 'Plymouth']\n"
     ]
    }
   ],
   "source": [
    "regions = {\n",
    "  \"Viking\" : {\"lat\" : 59.65,\"lon\" : 02.00},\n",
    "  \"North Utsire\" : {\"lat\": 60.00,\"lon\" : 04.68},\n",
    "  \"South Utsire\" : {\"lat\" : 58.23,\"lon\" : 05.65},\n",
    "  \"Forties\" : {\"lat\": 57.15,\"lon\" : 2.50},\n",
    "  \"Forth\" : {\"lat\" : 56.20,\"lon\" : 1.55},\n",
    "  \"Cromarty\" : {\"lat\" : 57.65,\"lon\" : -2.00},\n",
    "  \"Tyne\" : {\"lat\" : 55.08,\"lon\" : -0.53},\n",
    "  \"Dogger\" : {\"lat\" : 55.08,\"lon\" : 01.50},\n",
    "  \"Fisher\" : {\"lat\" : 56.73,\"lon\" : 6.18},\n",
    "  \"German Bight\" : {\"lat\" : 54.23,\"lon\" : 06.05},\n",
    "  \"Humber\" : {\"lat\" : 53.30,\"lon\" : 02.10},\n",
    "  \"Thames\" : {\"lat\" : 51.80,\"lon\" : 02.83},\n",
    "  \"Dover\" : {\"lat\" : 50.65,\"lon\" : 01.35},\n",
    "  \"Wight\" : {\"lat\" : 49.95,\"lon\" : -0.25},\n",
    "  \"Portland\" : {\"lat\" : 49.43,\"lon\" : -2.43},\n",
    "  \"Plymouth\" : {\"lat\" : 49.16,\"lon\" : -4.73}\n",
    "}\n",
    "\n",
    "names = []\n",
    "for x, y in regions.items():\n",
    "    names.append(x)\n",
    "print(names)"
   ]
  },
  {
   "cell_type": "code",
   "execution_count": 14,
   "metadata": {},
   "outputs": [
    {
     "name": "stdout",
     "output_type": "stream",
     "text": [
      "['major', 'natural_minor', 'harmonic_minor', 'melodic_minor', 'dorian', 'phrygian', 'lydian', 'mixolydian', 'aeolian', 'locrian', 'lydian_dominant', 'super_locrian', 'minor_pentatonic', 'major_pentatonic', 'minor_blues', 'major_blues', 'whole_half_diminished', 'half_whole_diminished']\n",
      "[2, 2, 1, 2, 2, 2, 1]\n",
      "2\n"
     ]
    }
   ],
   "source": [
    "scales = {\n",
    "    \"major\" : [2,2,1,2,2,2,1],\n",
    "    \"natural_minor\" : [2,1,2,2,1,2,2],\n",
    "    \"harmonic_minor\" : [2,1,2,2,1,3,1],\n",
    "    \"melodic_minor\" : [2,1,2,2,2,2,1],\n",
    "    \"dorian\" : [2,1,2,2,2,1,2],\n",
    "    \"phrygian\" : [1,2,2,2,1,2,2],\n",
    "    \"lydian\" : [2,2,2,1,2,2,1],\n",
    "    \"mixolydian\" : [2,2,1,2,2,1,2],\n",
    "    \"aeolian\" : [2,1,2,2,1,2,2],\n",
    "    \"locrian\" : [1,2,2,1,2,2,2],\n",
    "    \"lydian_dominant\" : [2,2,2,1,2,1,2],\n",
    "    \"super_locrian\" : [1,2,1,2,2,2,2],\n",
    "    \"minor_pentatonic\" : [3,2,2,3,2],\n",
    "    \"major_pentatonic\" : [2,2,3,2,3],\n",
    "    \"minor_blues\" : [3,2,1,1,3,2],\n",
    "    \"major_blues\" : [2,1,1,3,2,3],\n",
    "    \"whole_half_diminished\" : [2,1,2,1,2,1,2,1],\n",
    "    \"half_whole_diminished\" : [1,2,1,2,1,2,1,2]\n",
    "}\n",
    "\n",
    "scale_names = []\n",
    "for x, y in scales.items():\n",
    "    scale_names.append(x)\n",
    "print(scale_names)\n",
    "print(scales[\"major\"])\n",
    "print(scales[\"major\"][0])"
   ]
  },
  {
   "cell_type": "code",
   "execution_count": 15,
   "metadata": {},
   "outputs": [
    {
     "name": "stdout",
     "output_type": "stream",
     "text": [
      "[4, 210, 66, 63, 77, 1018]\n"
     ]
    }
   ],
   "source": [
    "def get_weather(station):\n",
    "    w_list = []\n",
    "    weather_at_station = mgr.weather_at_coords(regions[names[station]]['lat'],regions[names[station]]['lon']).weather\n",
    "    wind = weather_at_station.wind()\n",
    "    w_list.append(int(wind['speed']))\n",
    "    w_list.append(int(wind['deg']))\n",
    "    temp = weather_at_station.temperature('fahrenheit')\n",
    "    w_list.append(int(temp['temp']))\n",
    "    w_list.append(int(temp['feels_like']))\n",
    "    w_list.append(int(weather_at_station.humidity))\n",
    "    pressure = weather_at_station.pressure\n",
    "    w_list.append(int(pressure['press']))\n",
    "    return w_list\n",
    "    \n",
    "w_list = get_weather(1)\n",
    "print(w_list)"
   ]
  },
  {
   "cell_type": "code",
   "execution_count": 16,
   "metadata": {},
   "outputs": [
    {
     "name": "stdout",
     "output_type": "stream",
     "text": [
      "128\n",
      "{0: 'C', 1: 'C#', 2: 'D', 3: 'D#', 4: 'E', 5: 'F', 6: 'F#', 7: 'G', 8: 'G#', 9: 'A', 10: 'A#', 11: 'B', 12: 'C', 13: 'C#', 14: 'D', 15: 'D#', 16: 'E', 17: 'F', 18: 'F#', 19: 'G', 20: 'G#', 21: 'A', 22: 'A#', 23: 'B', 24: 'C', 25: 'C#', 26: 'D', 27: 'D#', 28: 'E', 29: 'F', 30: 'F#', 31: 'G', 32: 'G#', 33: 'A', 34: 'A#', 35: 'B', 36: 'C', 37: 'C#', 38: 'D', 39: 'D#', 40: 'E', 41: 'F', 42: 'F#', 43: 'G', 44: 'G#', 45: 'A', 46: 'A#', 47: 'B', 48: 'C', 49: 'C#', 50: 'D', 51: 'D#', 52: 'E', 53: 'F', 54: 'F#', 55: 'G', 56: 'G#', 57: 'A', 58: 'A#', 59: 'B', 60: 'C', 61: 'C#', 62: 'D', 63: 'D#', 64: 'E', 65: 'F', 66: 'F#', 67: 'G', 68: 'G#', 69: 'A', 70: 'A#', 71: 'B', 72: 'C', 73: 'C#', 74: 'D', 75: 'D#', 76: 'E', 77: 'F', 78: 'F#', 79: 'G', 80: 'G#', 81: 'A', 82: 'A#', 83: 'B', 84: 'C', 85: 'C#', 86: 'D', 87: 'D#', 88: 'E', 89: 'F', 90: 'F#', 91: 'G', 92: 'G#', 93: 'A', 94: 'A#', 95: 'B', 96: 'C', 97: 'C#', 98: 'D', 99: 'D#', 100: 'E', 101: 'F', 102: 'F#', 103: 'G', 104: 'G#', 105: 'A', 106: 'A#', 107: 'B', 108: 'C', 109: 'C#', 110: 'D', 111: 'D#', 112: 'E', 113: 'F', 114: 'F#', 115: 'G', 116: 'G#', 117: 'A', 118: 'A#', 119: 'B', 120: 'C', 121: 'C#', 122: 'D', 123: 'D#', 124: 'E', 125: 'F', 126: 'F#', 127: 'G'}\n",
      "{'C0': 0, 'C#0': 1, 'D0': 2, 'D#0': 3, 'E0': 4, 'F0': 5, 'F#0': 6, 'G0': 7, 'G#0': 8, 'A0': 9, 'A#0': 10, 'B0': 11, 'C1': 12, 'C#1': 13, 'D1': 14, 'D#1': 15, 'E1': 16, 'F1': 17, 'F#1': 18, 'G1': 19, 'G#1': 20, 'A1': 21, 'A#1': 22, 'B1': 23, 'C2': 24, 'C#2': 25, 'D2': 26, 'D#2': 27, 'E2': 28, 'F2': 29, 'F#2': 30, 'G2': 31, 'G#2': 32, 'A2': 33, 'A#2': 34, 'B2': 35, 'C3': 36, 'C#3': 37, 'D3': 38, 'D#3': 39, 'E3': 40, 'F3': 41, 'F#3': 42, 'G3': 43, 'G#3': 44, 'A3': 45, 'A#3': 46, 'B3': 47, 'C4': 48, 'C#4': 49, 'D4': 50, 'D#4': 51, 'E4': 52, 'F4': 53, 'F#4': 54, 'G4': 55, 'G#4': 56, 'A4': 57, 'A#4': 58, 'B4': 59, 'C5': 60, 'C#5': 61, 'D5': 62, 'D#5': 63, 'E5': 64, 'F5': 65, 'F#5': 66, 'G5': 67, 'G#5': 68, 'A5': 69, 'A#5': 70, 'B5': 71, 'C6': 72, 'C#6': 73, 'D6': 74, 'D#6': 75, 'E6': 76, 'F6': 77, 'F#6': 78, 'G6': 79, 'G#6': 80, 'A6': 81, 'A#6': 82, 'B6': 83, 'C7': 84, 'C#7': 85, 'D7': 86, 'D#7': 87, 'E7': 88, 'F7': 89, 'F#7': 90, 'G7': 91, 'G#7': 92, 'A7': 93, 'A#7': 94, 'B7': 95, 'C8': 96, 'C#8': 97, 'D8': 98, 'D#8': 99, 'E8': 100, 'F8': 101, 'F#8': 102, 'G8': 103, 'G#8': 104, 'A8': 105, 'A#8': 106, 'B8': 107, 'C9': 108, 'C#9': 109, 'D9': 110, 'D#9': 111, 'E9': 112, 'F9': 113, 'F#9': 114, 'G9': 115, 'G#9': 116, 'A9': 117, 'A#9': 118, 'B9': 119, 'C10': 120, 'C#10': 121, 'D10': 122, 'D#10': 123, 'E10': 124, 'F10': 125, 'F#10': 126, 'G10': 127}\n",
      "{'C': 0, 'C#': 1, 'D': 2, 'D#': 3, 'E': 4, 'F': 5, 'F#': 6, 'G': 7, 'G#': 8, 'A': 9, 'A#': 10, 'B': 11}\n"
     ]
    }
   ],
   "source": [
    "musical_notes = ['C','C#','D','D#','E','F','F#','G','G#','A','A#','B']\n",
    "\n",
    "def midi_dictionary():\n",
    "    midi_notes = []\n",
    "    for i in range(128):\n",
    "        midi_notes.append(i)\n",
    "    note_count = 0\n",
    "    all_count = 0\n",
    "    all_notes = []\n",
    "    while all_count < 128:\n",
    "        all_notes.append(musical_notes[note_count])\n",
    "        note_count += 1\n",
    "        all_count += 1\n",
    "        if note_count >= 12:\n",
    "            note_count = 0\n",
    "    print(len(all_notes))\n",
    "    midi_dict = dict(zip(midi_notes, all_notes))\n",
    "    octave_count = 0\n",
    "    note_count = 0\n",
    "    octave_notes = []\n",
    "    while octave_count < 11:\n",
    "        octave_notes.append(musical_notes[note_count] + str(octave_count))\n",
    "        note_count += 1\n",
    "        if note_count >= 12:\n",
    "            note_count = 0\n",
    "            octave_count += 1\n",
    "            \n",
    "    midi_dict2 = dict(zip(octave_notes, midi_notes))\n",
    "    first_oct = dict(zip(musical_notes, midi_notes))\n",
    "    return midi_dict, midi_dict2, first_oct\n",
    "\n",
    "(midi_dict, midi_dict2, first_oct) = midi_dictionary()\n",
    "print(midi_dict)\n",
    "print(midi_dict2)\n",
    "print(first_oct)"
   ]
  },
  {
   "cell_type": "code",
   "execution_count": 17,
   "metadata": {},
   "outputs": [
    {
     "name": "stdout",
     "output_type": "stream",
     "text": [
      "[2, 5, 7, 8, 9, 12, 14, 17, 19, 20, 21, 24, 26, 29, 31, 32, 33, 36, 38, 41, 43, 44, 45, 48, 50, 53, 55, 56, 57, 60, 62, 65, 67, 68, 69, 72]\n"
     ]
    }
   ],
   "source": [
    "def calc_scale(root_note,scale):\n",
    "    first_note = first_oct[root_note]\n",
    "    notes = [first_note]\n",
    "    scale_count = 0\n",
    "    n = first_note\n",
    "    while n < 71: # restricting to 5th octave as a bit piercy after that\n",
    "        n = n + scales[scale][scale_count]\n",
    "        notes.append(n)\n",
    "        scale_count+=1\n",
    "        if scale_count >= len(scales[scale]):\n",
    "            scale_count = 0\n",
    "    return notes\n",
    "\n",
    "calced_scale = calc_scale('D','minor_blues')\n",
    "print(calced_scale)"
   ]
  },
  {
   "cell_type": "code",
   "execution_count": 18,
   "metadata": {},
   "outputs": [
    {
     "name": "stdout",
     "output_type": "stream",
     "text": [
      "[4, 66, 66, 63, 5, 10]\n"
     ]
    }
   ],
   "source": [
    "def midi_restrict(number_list):\n",
    "    midi_w_list = [item % 72 for item in number_list]\n",
    "    return midi_w_list\n",
    "\n",
    "midi_w_list = midi_restrict(w_list)\n",
    "print(midi_w_list)"
   ]
  },
  {
   "cell_type": "code",
   "execution_count": 19,
   "metadata": {},
   "outputs": [
    {
     "name": "stdout",
     "output_type": "stream",
     "text": [
      "[5, 65, 65, 62, 5, 9]\n",
      "['F', 'F', 'F', 'D', 'F', 'A']\n"
     ]
    }
   ],
   "source": [
    "def fit_scale(midi_w_list):\n",
    "    from bisect import bisect_left\n",
    "\n",
    "    def take_closest(myList, myNumber):\n",
    "        \"\"\"\n",
    "        Assumes myList is sorted. Returns closest value to myNumber.\n",
    "\n",
    "        If two numbers are equally close, return the smallest number.\n",
    "        \"\"\"\n",
    "        pos = bisect_left(myList, myNumber)\n",
    "        if pos == 0:\n",
    "            return myList[0]\n",
    "        if pos == len(myList):\n",
    "            return myList[-1]\n",
    "        before = myList[pos - 1]\n",
    "        after = myList[pos]\n",
    "        if after - myNumber < myNumber - before:\n",
    "           return after\n",
    "        else:\n",
    "           return before\n",
    "    midi_final = []\n",
    "    for note in midi_w_list:\n",
    "        midi_final.append(take_closest(calced_scale,note))\n",
    "    note_names = []\n",
    "    for note in midi_final:\n",
    "        note_names.append(midi_dict.get(note))\n",
    "    return midi_final, note_names\n",
    "    \n",
    "(midi_final, note_names) = fit_scale(midi_w_list)\n",
    "print(midi_final)\n",
    "print(note_names)"
   ]
  },
  {
   "cell_type": "code",
   "execution_count": 20,
   "metadata": {},
   "outputs": [],
   "source": [
    "def output_midi(station, midi_final):\n",
    "    midiout = rtmidi.MidiOut()\n",
    "    available_ports = midiout.get_ports()\n",
    "    print(\"MIDI ports available:-\")\n",
    "    for i in range(0,len(available_ports)):\n",
    "        print(i,available_ports[i])  \n",
    "\n",
    "    if available_ports:\n",
    "        midiout.open_port(0)\n",
    "    else:\n",
    "        midiout.open_virtual_port(\"My virtual output\")\n",
    "    \n",
    "    with midiout:\n",
    "        \n",
    "        print(names[station])\n",
    "        print(note_names)\n",
    "        for note in midi_final:        \n",
    "            note_on = [0x90, note, 112]        \n",
    "            midiout.send_message(note_on)\n",
    "            time.sleep(5)\n",
    "        time.sleep(10)\n",
    "        for note in midi_final:        \n",
    "            note_off = [0x80, note, 0] \n",
    "            midiout.send_message(note_off)\n",
    "            time.sleep(1)\n",
    "        time.sleep(0.1)\n",
    "\n",
    "        del midiout"
   ]
  },
  {
   "cell_type": "code",
   "execution_count": 21,
   "metadata": {},
   "outputs": [
    {
     "name": "stdout",
     "output_type": "stream",
     "text": [
      "128\n",
      "MIDI ports available:-\n",
      "0 IAC Driver Bus 1\n",
      "Viking\n",
      "['F', 'D#', 'A#', 'G#', 'G#', 'G#']\n",
      "128\n",
      "MIDI ports available:-\n",
      "0 IAC Driver Bus 1\n",
      "North Utsire\n",
      "['F', 'F', 'F', 'D#', 'F', 'A#']\n",
      "128\n",
      "MIDI ports available:-\n",
      "0 IAC Driver Bus 1\n",
      "South Utsire\n",
      "['F', 'F', 'C#', 'G#', 'G', 'A#']\n",
      "128\n",
      "MIDI ports available:-\n",
      "0 IAC Driver Bus 1\n",
      "Forties\n",
      "['F', 'C#', 'C', 'G', 'G#', 'G#']\n",
      "128\n",
      "MIDI ports available:-\n",
      "0 IAC Driver Bus 1\n",
      "Forth\n",
      "['F', 'D#', 'C#', 'A#', 'F', 'G#']\n",
      "128\n",
      "MIDI ports available:-\n",
      "0 IAC Driver Bus 1\n",
      "Cromarty\n",
      "['F', 'C', 'F', 'A#', 'F', 'F']\n",
      "128\n",
      "MIDI ports available:-\n",
      "0 IAC Driver Bus 1\n",
      "Tyne\n",
      "['F', 'A#', 'F', 'D#', 'F', 'G#']\n",
      "128\n",
      "MIDI ports available:-\n",
      "0 IAC Driver Bus 1\n",
      "Dogger\n",
      "['F', 'C#', 'C#', 'A#', 'G#', 'G#']\n"
     ]
    },
    {
     "ename": "KeyboardInterrupt",
     "evalue": "",
     "output_type": "error",
     "traceback": [
      "\u001b[0;31m---------------------------------------------------------------------------\u001b[0m",
      "\u001b[0;31mKeyboardInterrupt\u001b[0m                         Traceback (most recent call last)",
      "\u001b[0;32m<ipython-input-21-462e60221141>\u001b[0m in \u001b[0;36m<module>\u001b[0;34m\u001b[0m\n\u001b[1;32m     10\u001b[0m     \u001b[0;34m(\u001b[0m\u001b[0mmidi_final\u001b[0m\u001b[0;34m,\u001b[0m \u001b[0mnote_names\u001b[0m\u001b[0;34m)\u001b[0m \u001b[0;34m=\u001b[0m \u001b[0mfit_scale\u001b[0m\u001b[0;34m(\u001b[0m\u001b[0mmidi_w_list\u001b[0m\u001b[0;34m)\u001b[0m\u001b[0;34m\u001b[0m\u001b[0;34m\u001b[0m\u001b[0m\n\u001b[1;32m     11\u001b[0m     \u001b[0moutput_midi\u001b[0m\u001b[0;34m(\u001b[0m\u001b[0mstation\u001b[0m\u001b[0;34m,\u001b[0m\u001b[0mmidi_final\u001b[0m\u001b[0;34m)\u001b[0m\u001b[0;34m\u001b[0m\u001b[0;34m\u001b[0m\u001b[0m\n\u001b[0;32m---> 12\u001b[0;31m     \u001b[0mtime\u001b[0m\u001b[0;34m.\u001b[0m\u001b[0msleep\u001b[0m\u001b[0;34m(\u001b[0m\u001b[0;36m5\u001b[0m\u001b[0;34m)\u001b[0m\u001b[0;34m\u001b[0m\u001b[0;34m\u001b[0m\u001b[0m\n\u001b[0m\u001b[1;32m     13\u001b[0m     \u001b[0mstation\u001b[0m \u001b[0;34m+=\u001b[0m \u001b[0;36m1\u001b[0m\u001b[0;34m\u001b[0m\u001b[0;34m\u001b[0m\u001b[0m\n\u001b[1;32m     14\u001b[0m     \u001b[0;32mif\u001b[0m \u001b[0mstation\u001b[0m \u001b[0;34m>=\u001b[0m \u001b[0mlen\u001b[0m\u001b[0;34m(\u001b[0m\u001b[0mnames\u001b[0m\u001b[0;34m)\u001b[0m\u001b[0;34m:\u001b[0m\u001b[0;34m\u001b[0m\u001b[0;34m\u001b[0m\u001b[0m\n",
      "\u001b[0;31mKeyboardInterrupt\u001b[0m: "
     ]
    }
   ],
   "source": [
    "station = 0\n",
    "root_note = 'F'\n",
    "scale = 'natural_minor'\n",
    "\n",
    "while True:\n",
    "    w_list = get_weather(station)\n",
    "    (midi_dict, midi_dict2, first_oct) = midi_dictionary()\n",
    "    calced_scale = calc_scale(root_note,scale)\n",
    "    midi_w_list = midi_restrict(w_list)\n",
    "    (midi_final, note_names) = fit_scale(midi_w_list)\n",
    "    output_midi(station,midi_final)\n",
    "    time.sleep(5)\n",
    "    station += 1\n",
    "    if station >= len(names):\n",
    "        station = 0"
   ]
  },
  {
   "cell_type": "code",
   "execution_count": null,
   "metadata": {},
   "outputs": [],
   "source": []
  },
  {
   "cell_type": "code",
   "execution_count": null,
   "metadata": {},
   "outputs": [],
   "source": []
  }
 ],
 "metadata": {
  "kernelspec": {
   "display_name": "Python 3",
   "language": "python",
   "name": "python3"
  }
 },
 "nbformat": 4,
 "nbformat_minor": 4
}
